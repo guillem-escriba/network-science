{
 "cells": [
  {
   "cell_type": "markdown",
   "metadata": {},
   "source": [
    "# Practice Session 04: Networks from text"
   ]
  },
  {
   "cell_type": "markdown",
   "metadata": {},
   "source": [
    "<font size=\"+2\" color=\"blue\">Additional results: account types</font> \n",
    "\n",
    "Author: <font color=\"blue\">Guillem Escriba Molto</font>\n",
    "\n",
    "E-mail: <font color=\"blue\">guillem.escriba01@estudiant.upf.edu</font>\n",
    "\n",
    "Date: <font color=\"blue\">02/11/2021</font>"
   ]
  },
  {
   "cell_type": "markdown",
   "metadata": {},
   "source": [
    "# 1. Create the directed mention network"
   ]
  },
  {
   "cell_type": "code",
   "execution_count": 21,
   "metadata": {},
   "outputs": [],
   "source": [
    "import io\n",
    "import json\n",
    "import gzip\n",
    "import csv\n",
    "import re"
   ]
  },
  {
   "cell_type": "code",
   "execution_count": 22,
   "metadata": {},
   "outputs": [],
   "source": [
    "# Leave this code as-is\n",
    "\n",
    "# Input file\n",
    "COMPRESSED_INPUT_FILENAME = \"CovidLockdownCatalonia.json.gz\"\n",
    "\n",
    "# These are the output files, leave as-is\n",
    "OUTPUT_ALL_EDGES_FILENAME = \"CovidLockdownCatalonia.csv\"\n",
    "OUTPUT_FILTERED_EDGES_FILENAME = \"CovidLockdownCatalonia-min-weight-filtered.csv\"\n",
    "OUTPUT_CO_MENTIONS_FILENAME = \"CovidLockdownCatalonia-co-mentions.csv\""
   ]
  },
  {
   "cell_type": "markdown",
   "metadata": {},
   "source": [
    "## 1.1. Extract mentions"
   ]
  },
  {
   "cell_type": "code",
   "execution_count": 23,
   "metadata": {},
   "outputs": [
    {
     "name": "stdout",
     "output_type": "stream",
     "text": [
      "['Jordi', 'Xavier']\n"
     ]
    }
   ],
   "source": [
    "# Leave this code as-is\n",
    "\n",
    "def extract_mentions(text):\n",
    "    return re.findall(\"@([a-zA-Z0-9_]{5,20})\", text)\n",
    "\n",
    "print(extract_mentions(\"RT @Jordi: check this post by @Xavier\"))"
   ]
  },
  {
   "cell_type": "markdown",
   "metadata": {},
   "source": [
    "## 1.2. Count mentions"
   ]
  },
  {
   "cell_type": "code",
   "execution_count": 24,
   "metadata": {},
   "outputs": [],
   "source": [
    "mentions_counter = {}\n",
    "with gzip.open(COMPRESSED_INPUT_FILENAME, \"rt\", encoding=\"utf-8\") as input_file:\n",
    "    for line in input_file: # Línea por línea en el archivo va extrayendo cada tweet y de éstos su autor y el message.\n",
    "        tweet = json.loads(line)\n",
    "        author = tweet[\"user\"][\"screen_name\"]\n",
    "        message = tweet[\"full_text\"]\n",
    "        mentions = extract_mentions(message) # Extrae las menciones del tweet \"@\".\n",
    "        for mention in mentions: # Itera por cada mención en el tweet y comprueba si esta en el diccionario. Si está el contador aumenta.\n",
    "            key = (author, mention)\n",
    "            if key in mentions_counter:\n",
    "                mentions_counter[key] += 1\n",
    "            else:\n",
    "                mentions_counter[key] = 1\n"
   ]
  },
  {
   "cell_type": "code",
   "execution_count": 25,
   "metadata": {},
   "outputs": [
    {
     "name": "stdout",
     "output_type": "stream",
     "text": [
      "9\n"
     ]
    }
   ],
   "source": [
    "key = (\"joanmariapique\",\"catalangov\")\n",
    "print(mentions_counter[key])"
   ]
  },
  {
   "cell_type": "code",
   "execution_count": 26,
   "metadata": {},
   "outputs": [],
   "source": [
    "# Leave this code as-is\n",
    "\n",
    "with io.open(OUTPUT_ALL_EDGES_FILENAME, \"w\") as output_file:\n",
    "    writer = csv.writer(output_file, delimiter='\\t', quotechar='\"')\n",
    "    writer.writerow([\"Source\", \"Target\", \"Weight\"])\n",
    "    for key in mentions_counter:\n",
    "        author = key[0]\n",
    "        mention = key[1]\n",
    "        weight = mentions_counter[key]\n",
    "        writer.writerow([author, mention, weight])"
   ]
  },
  {
   "cell_type": "code",
   "execution_count": 27,
   "metadata": {},
   "outputs": [],
   "source": [
    "with io.open(OUTPUT_FILTERED_EDGES_FILENAME, \"w\") as output_file:\n",
    "    writer = csv.writer(output_file, delimiter='\\t', quotechar='\"')\n",
    "    writer.writerow([\"Source\", \"Target\", \"Weight\"])\n",
    "    for key in mentions_counter:\n",
    "        author = key[0]\n",
    "        mention = key[1]\n",
    "        weight = mentions_counter[key]\n",
    "        if weight >= 2: # Esta es la única diferencia con el código anterior pues aquí se filtran solo aquellos \n",
    "            writer.writerow([author, mention, weight]) # cuyo weight, menciones, sean iguales o superiores a 2."
   ]
  },
  {
   "cell_type": "markdown",
   "metadata": {},
   "source": [
    "# 2. Visualize the directed mention network"
   ]
  },
  {
   "cell_type": "markdown",
   "metadata": {},
   "source": [
    "![Mentions graph](mentions.png)"
   ]
  },
  {
   "cell_type": "markdown",
   "metadata": {},
   "source": [
    "<font size=\"+1\" color=\"black\"> El grafo en cuestión nos muestra las menciones direccionadas (y el número de éstas, weight) entre dos o más usuarios mencionados en un tweet, en concreto solo aquellas interacciones cuyo número de veces realizadas sea igual o superior a dos, es decir, que las menciones únicas no se muestran pues es el grafo filtrado. Como se puede ver un gran número de menciones son bilaterales, sin que intervengan más de 2 usuarios.\n",
    "   En este grafo podemos ver un CC central cuyos núcleos son en esencia instituciones gubernamentales o sanitarias, doctores en el ámbito y/o medios de comunicación. Dicho CC Central, tiene 699 nodos y 791 links representando un porcentaje de nodos respecto al grafo de Nc/N = 699/1600 = 43.69%, prácticamente la mitad. El siguiente CC más grande se encuentra arriba a la derecha del central, con 16 nodos y 15 links y un porcentaje de nodos respecto al grafo del 1%.\n",
    "   "
   ]
  },
  {
   "cell_type": "markdown",
   "metadata": {},
   "source": [
    "![Mentions graph largest connected component](mentions-largest-cc.png)"
   ]
  },
  {
   "cell_type": "markdown",
   "metadata": {},
   "source": [
    "![Mentions in-degree distribution](mentions-in-degree-distribution.png)![Mentions out-degree distribution](mentions-out-degree-distribution.png)"
   ]
  },
  {
   "cell_type": "markdown",
   "metadata": {},
   "source": [
    "<font size=\"+1\" color=\"black\">\n",
    "    Este grafo al ser un componente conexo del grafo anterior resulta en, valga la redundancia, un grafo conectado(un solo componente conexo, Nc/N = 100%), es decir, que desde cualquier nodo x, se puede acceder a cualquier nodo y. Los nodos con mayor centralidad son aquellos pertenecientes a instituciones gubernamentales y sanitarias, medios de comunicación y expertos, algo previsible dada la situación de aquel momento. Podemos ver segun los dos gráficos, que el grado de salida es inferior al grado de entrada, algo bastante coerente si tenemos en cuenta que en un mismo tweet se pueden mencionar a varias personas pero que solo hay un autor. Una cosa curiosa del grafo es que tiene un clustering coefficient medio muy bajo aunque tiene cierto sentido dado que por ejemplo, una institución sanitaria puede ser muy mencionada, pero eso no significa que quienes la mencionan guarden relación alguna entre sí.</font>"
   ]
  },
  {
   "cell_type": "markdown",
   "metadata": {},
   "source": [
    "# 3. Create the undirected co-mention network"
   ]
  },
  {
   "cell_type": "code",
   "execution_count": 28,
   "metadata": {},
   "outputs": [],
   "source": [
    "co_mentions_counter = {}\n",
    "with gzip.open(COMPRESSED_INPUT_FILENAME, \"rt\", encoding=\"utf-8\") as input_file:\n",
    "    for line in input_file:\n",
    "        tweet = json.loads(line)\n",
    "        author = tweet[\"user\"][\"screen_name\"]\n",
    "        message = tweet[\"full_text\"]\n",
    "        #print(\"%s: '%s'\" % (author, message))\n",
    "        mentions = extract_mentions(message)\n",
    "        for mention1 in mentions:     # El código es igual al anterior solo que esta vez hay dos bucles para contar las menciones \n",
    "            for mention2 in mentions: # en ambas direcciones como una sola, el if mention 1 < mention 2, evita duplicados\n",
    "                if mention1 < mention2:\n",
    "                    key = (mention1, mention2)\n",
    "                    if key in co_mentions_counter:\n",
    "                        co_mentions_counter[key] += 1\n",
    "                    else:\n",
    "                        co_mentions_counter[key] = 1"
   ]
  },
  {
   "cell_type": "code",
   "execution_count": 29,
   "metadata": {},
   "outputs": [
    {
     "name": "stdout",
     "output_type": "stream",
     "text": [
      "8\n"
     ]
    }
   ],
   "source": [
    "key = (\"agriculturacat\",\"uniopagesos\")\n",
    "print(co_mentions_counter[key])"
   ]
  },
  {
   "cell_type": "code",
   "execution_count": 30,
   "metadata": {},
   "outputs": [],
   "source": [
    "with io.open(OUTPUT_CO_MENTIONS_FILENAME, \"w\") as output_file:\n",
    "    writer = csv.writer(output_file, delimiter='\\t', quotechar='\"')\n",
    "    writer.writerow([\"Source\", \"Target\", \"Weight\"])\n",
    "    for key in co_mentions_counter:\n",
    "        author = key[0]\n",
    "        mention = key[1]\n",
    "        weight = co_mentions_counter[key]\n",
    "        writer.writerow([author, mention, weight])"
   ]
  },
  {
   "cell_type": "markdown",
   "metadata": {},
   "source": [
    "\n",
    "# 4. Visualize the undirected co-mention network in Cytoscape"
   ]
  },
  {
   "cell_type": "markdown",
   "metadata": {},
   "source": [
    "![Co-mentions graph](co-mentions.png)"
   ]
  },
  {
   "cell_type": "markdown",
   "metadata": {},
   "source": [
    "<font size=\"+1\" color=\"black\">\n",
    "    A diferencia de los anteriores, en este grafo la dirección no es relevante, es lo mismo que x mencione a y que y mencione a x, además las menciones no están filtradas por el número de las mismas, sino que también hay menciones únicas. Como resultado de esto se muestran muchos nodos cuyo weigth es 1 puesto que por ejemplo, se puede mencionar a alguien desconocido y que este no te mencione ni tú le vuelvas a mencionar lo que tiene como resultado todos los pequeños CCs de abajo. Esto es lo que causa la gran cantidad de CCs que hay, 888. Aparte de ser un grafo desconectado con 4008 nodos y 7816 edges, posee un gran componente central 1514 nodos. Tanto el clustering coefficient como el número de vecinos, es superior al del anterior, ya que ahora las menciones unidireccionales coinciden en ambos sentido.</font>"
   ]
  },
  {
   "cell_type": "markdown",
   "metadata": {},
   "source": [
    "\n",
    "# 5. Additional results: account types"
   ]
  },
  {
   "cell_type": "code",
   "execution_count": 31,
   "metadata": {},
   "outputs": [],
   "source": [
    "import operator # Simplifica en una sola línea la ordenación del diccionario."
   ]
  },
  {
   "cell_type": "code",
   "execution_count": 32,
   "metadata": {},
   "outputs": [],
   "source": [
    "top_mentions_counter = {}\n",
    "with gzip.open(COMPRESSED_INPUT_FILENAME, \"rt\", encoding=\"utf-8\") as input_file:\n",
    "    for line in input_file:\n",
    "        tweet = json.loads(line)\n",
    "        author = tweet[\"user\"][\"screen_name\"]\n",
    "        message = tweet[\"full_text\"]\n",
    "        mentions = extract_mentions(message)\n",
    "        for mention in mentions:\n",
    "            key = (mention) # A diferencia de las anteriores solo cuenta el número de veces que ha sido mencionada una cuenta.\n",
    "            if key in top_mentions_counter:\n",
    "                top_mentions_counter[key] += 1\n",
    "            else:\n",
    "                top_mentions_counter[key] = 1\n",
    "\n",
    "# Simplifica en una sola línea la ordenación del diccionario.\n",
    "top_mentions_counter = sorted(top_mentions_counter.items(), key=operator.itemgetter(1), reverse=True)\n",
    "\n",
    "\n",
    "\n"
   ]
  },
  {
   "cell_type": "code",
   "execution_count": 33,
   "metadata": {},
   "outputs": [],
   "source": [
    "OUTPUT_ACCOUNT_TYPE_FILENAME = \"account-type.csv\"\n",
    "\n",
    "\n",
    "with io.open(OUTPUT_ACCOUNT_TYPE_FILENAME, \"w\") as output_file:\n",
    "    writer = csv.writer(output_file, delimiter='\\t', quotechar='\"')\n",
    "    writer.writerow([\"Source\", \"Weight\"])\n",
    "    i = 0\n",
    "    for key in top_mentions_counter:\n",
    "        i += 1\n",
    "        mention = key[0]\n",
    "        weight = key[1]\n",
    "        writer.writerow([mention, weight])\n",
    "        if i == 50:\n",
    "            break;"
   ]
  },
  {
   "cell_type": "markdown",
   "metadata": {},
   "source": [
    "![Account-types graph](account-type.png)\n"
   ]
  },
  {
   "cell_type": "markdown",
   "metadata": {},
   "source": [
    "<font size=\"+2\" color=\"#003300\">I hereby declare that, except for the code provided by the course instructors, all of my code, report, and figures were produced by myself.</font>\n"
   ]
  }
 ],
 "metadata": {
  "kernelspec": {
   "display_name": "Python 3",
   "language": "python",
   "name": "python3"
  },
  "language_info": {
   "codemirror_mode": {
    "name": "ipython",
    "version": 3
   },
   "file_extension": ".py",
   "mimetype": "text/x-python",
   "name": "python",
   "nbconvert_exporter": "python",
   "pygments_lexer": "ipython3",
   "version": "3.8.8"
  }
 },
 "nbformat": 4,
 "nbformat_minor": 2
}
