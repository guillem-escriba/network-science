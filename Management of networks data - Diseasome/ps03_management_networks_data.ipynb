{
 "cells": [
  {
   "cell_type": "markdown",
   "metadata": {},
   "source": [
    "# Practice Session 03: Management of networks data\n",
    "<font size=\"+2\" color=\"blue\">Additional results: diseases are grouped</font>"
   ]
  },
  {
   "cell_type": "markdown",
   "metadata": {},
   "source": [
    "Author: <font color=\"blue\">Guillem Escriba Molto</font>\n",
    "\n",
    "E-mail: <font color=\"blue\">guillem.escriba01@estudiant.upf.edu</font>\n",
    "\n",
    "Date: <font color=\"blue\">02/11/2021</font>"
   ]
  },
  {
   "cell_type": "markdown",
   "metadata": {},
   "source": [
    "# 1. The diseasome bi-partite graph"
   ]
  },
  {
   "cell_type": "code",
   "execution_count": 1,
   "metadata": {},
   "outputs": [],
   "source": [
    "import io\n",
    "import csv\n",
    "import pandas as pd"
   ]
  },
  {
   "cell_type": "code",
   "execution_count": 2,
   "metadata": {},
   "outputs": [],
   "source": [
    "\n",
    "\n",
    "INPUT_FILENAME = \"disease-genes.csv\"\n",
    "OUTPUT_DISEASOME_FILENAME = \"diseasome.csv\""
   ]
  },
  {
   "cell_type": "code",
   "execution_count": 3,
   "metadata": {},
   "outputs": [
    {
     "data": {
      "text/html": [
       "<div>\n",
       "<style scoped>\n",
       "    .dataframe tbody tr th:only-of-type {\n",
       "        vertical-align: middle;\n",
       "    }\n",
       "\n",
       "    .dataframe tbody tr th {\n",
       "        vertical-align: top;\n",
       "    }\n",
       "\n",
       "    .dataframe thead th {\n",
       "        text-align: right;\n",
       "    }\n",
       "</style>\n",
       "<table border=\"1\" class=\"dataframe\">\n",
       "  <thead>\n",
       "    <tr style=\"text-align: right;\">\n",
       "      <th></th>\n",
       "      <th>Name</th>\n",
       "      <th>Genes</th>\n",
       "      <th>OMIM ID</th>\n",
       "      <th>Chromosome</th>\n",
       "      <th>Class</th>\n",
       "    </tr>\n",
       "    <tr>\n",
       "      <th>ID</th>\n",
       "      <th></th>\n",
       "      <th></th>\n",
       "      <th></th>\n",
       "      <th></th>\n",
       "      <th></th>\n",
       "    </tr>\n",
       "  </thead>\n",
       "  <tbody>\n",
       "    <tr>\n",
       "      <th>1</th>\n",
       "      <td>17,20-lyase deficiency, isolated</td>\n",
       "      <td>CYP17A1, CYP17, P450C17</td>\n",
       "      <td>609300</td>\n",
       "      <td>10q24.3</td>\n",
       "      <td>Endocrine</td>\n",
       "    </tr>\n",
       "    <tr>\n",
       "      <th>1</th>\n",
       "      <td>17-alpha-hydroxylase/17,20-lyase deficiency</td>\n",
       "      <td>CYP17A1, CYP17, P450C17</td>\n",
       "      <td>609300</td>\n",
       "      <td>10q24.3</td>\n",
       "      <td>Endocrine</td>\n",
       "    </tr>\n",
       "    <tr>\n",
       "      <th>3</th>\n",
       "      <td>2-methyl-3-hydroxybutyryl-CoA dehydrogenase de...</td>\n",
       "      <td>HADH2, ERAB</td>\n",
       "      <td>300256</td>\n",
       "      <td>Xp11.2</td>\n",
       "      <td>Metabolic</td>\n",
       "    </tr>\n",
       "    <tr>\n",
       "      <th>4</th>\n",
       "      <td>2-methylbutyrylglycinuria</td>\n",
       "      <td>ACADSB</td>\n",
       "      <td>600301</td>\n",
       "      <td>10q25-q26</td>\n",
       "      <td>Metabolic</td>\n",
       "    </tr>\n",
       "    <tr>\n",
       "      <th>5</th>\n",
       "      <td>3-beta-hydroxysteroid dehydrogenase, type II, ...</td>\n",
       "      <td>HSD3B2</td>\n",
       "      <td>201810</td>\n",
       "      <td>1p13.1</td>\n",
       "      <td>Metabolic</td>\n",
       "    </tr>\n",
       "    <tr>\n",
       "      <th>6</th>\n",
       "      <td>3-hydroxyacyl-CoA dehydrogenase deficiency</td>\n",
       "      <td>HADHSC, SCHAD</td>\n",
       "      <td>601609</td>\n",
       "      <td>4q22-q26</td>\n",
       "      <td>Metabolic</td>\n",
       "    </tr>\n",
       "    <tr>\n",
       "      <th>7</th>\n",
       "      <td>3-Methylcrotonyl-CoA carboxylase 1 deficiency</td>\n",
       "      <td>MCCC1, MCCA</td>\n",
       "      <td>609010</td>\n",
       "      <td>3q25-q27</td>\n",
       "      <td>Metabolic</td>\n",
       "    </tr>\n",
       "    <tr>\n",
       "      <th>7</th>\n",
       "      <td>3-Methylcrotonyl-CoA carboxylase 2 deficiency</td>\n",
       "      <td>MCCC2, MCCB</td>\n",
       "      <td>609014</td>\n",
       "      <td>5q12-q13</td>\n",
       "      <td>Metabolic</td>\n",
       "    </tr>\n",
       "    <tr>\n",
       "      <th>8</th>\n",
       "      <td>3-methylglutaconic aciduria, type I</td>\n",
       "      <td>AUH</td>\n",
       "      <td>600529</td>\n",
       "      <td>Chr.9</td>\n",
       "      <td>Metabolic</td>\n",
       "    </tr>\n",
       "    <tr>\n",
       "      <th>9</th>\n",
       "      <td>3-methylglutaconicaciduria, type III</td>\n",
       "      <td>OPA3, MGA3</td>\n",
       "      <td>606580</td>\n",
       "      <td>19q13.2-q13.3</td>\n",
       "      <td>Metabolic</td>\n",
       "    </tr>\n",
       "  </tbody>\n",
       "</table>\n",
       "</div>"
      ],
      "text/plain": [
       "                                                 Name  \\\n",
       "ID                                                      \n",
       "1                    17,20-lyase deficiency, isolated   \n",
       "1         17-alpha-hydroxylase/17,20-lyase deficiency   \n",
       "3   2-methyl-3-hydroxybutyryl-CoA dehydrogenase de...   \n",
       "4                           2-methylbutyrylglycinuria   \n",
       "5   3-beta-hydroxysteroid dehydrogenase, type II, ...   \n",
       "6          3-hydroxyacyl-CoA dehydrogenase deficiency   \n",
       "7       3-Methylcrotonyl-CoA carboxylase 1 deficiency   \n",
       "7       3-Methylcrotonyl-CoA carboxylase 2 deficiency   \n",
       "8                 3-methylglutaconic aciduria, type I   \n",
       "9                3-methylglutaconicaciduria, type III   \n",
       "\n",
       "                      Genes  OMIM ID     Chromosome      Class  \n",
       "ID                                                              \n",
       "1   CYP17A1, CYP17, P450C17   609300        10q24.3  Endocrine  \n",
       "1   CYP17A1, CYP17, P450C17   609300        10q24.3  Endocrine  \n",
       "3               HADH2, ERAB   300256         Xp11.2  Metabolic  \n",
       "4                    ACADSB   600301      10q25-q26  Metabolic  \n",
       "5                    HSD3B2   201810         1p13.1  Metabolic  \n",
       "6             HADHSC, SCHAD   601609       4q22-q26  Metabolic  \n",
       "7               MCCC1, MCCA   609010       3q25-q27  Metabolic  \n",
       "7               MCCC2, MCCB   609014       5q12-q13  Metabolic  \n",
       "8                       AUH   600529          Chr.9  Metabolic  \n",
       "9                OPA3, MGA3   606580  19q13.2-q13.3  Metabolic  "
      ]
     },
     "execution_count": 3,
     "metadata": {},
     "output_type": "execute_result"
    }
   ],
   "source": [
    "\n",
    "disease_genes = pd.read_csv(INPUT_FILENAME, sep=\",\")\n",
    "disease_genes.set_index(\"ID\", inplace=True)\n",
    "disease_genes.head(10)"
   ]
  },
  {
   "cell_type": "code",
   "execution_count": 4,
   "metadata": {},
   "outputs": [],
   "source": [
    "# Este código compacto se encarga de seleccionar las columnas deseadas y crear el dataframe de diseasome\n",
    "diseasome = pd.DataFrame(list(zip(disease_genes.Name,disease_genes.Class, disease_genes.Genes)), columns = [\"disorder\",\"class\",\"gene_list\"])"
   ]
  },
  {
   "cell_type": "code",
   "execution_count": 5,
   "metadata": {},
   "outputs": [],
   "source": [
    "# A partir de un dataframe este código se encarga de crear un archivo csv separado con tabulaciones \"\\t\"\n",
    "pd.DataFrame.to_csv(diseasome,OUTPUT_DISEASOME_FILENAME,'\\t')"
   ]
  },
  {
   "cell_type": "markdown",
   "metadata": {},
   "source": [
    "![Diseasome graph](diseasome.png)"
   ]
  },
  {
   "cell_type": "markdown",
   "metadata": {},
   "source": [
    "<font size=\"+1\" color=\"black\">\n",
    "    En este grafo observamos el mayor componente conexo del grafo diseasome, en dicho grafo se enlazam distintas enfermedades a los genes con los que guardan relación, ya sea por ser estos la causa de las enfermedades o por otros motivos. El grafo representado está completamente conectado al ser un CC del original. Este CC posee 194 nodos y 196 enlaces, su porcentaje de nodos respecto alos nodos totales de diseasome es: Nc/N = 194/4342 = 4'47%. Se puede apreciar que el tipo de enferedades en dicho CC es Cancer, tiene su sentido por la gran variedad que hay. El motivo por el que varias enfermedades del mismo tipo estén próximas se debe al tipo de gen que las causa, por ejemplo, las enfermedades de la vista estarán relacionadas con los genes que intevengan en la visión.</font>"
   ]
  },
  {
   "cell_type": "markdown",
   "metadata": {},
   "source": [
    "# 2. The disease-disease graph"
   ]
  },
  {
   "cell_type": "code",
   "execution_count": 6,
   "metadata": {},
   "outputs": [],
   "source": [
    "def intersection(list1, list2):            \n",
    "    return(list(set(list1) & set(list2)))\n",
    "\n",
    "OUTPUT_DISEASEDISEASE_FILENAME = \"disease-disease.csv\"\n",
    "\n",
    "with io.open(OUTPUT_DISEASEDISEASE_FILENAME, \"w\") as fileout:   # Crea un archivo csv a partir de columnas de datos\n",
    "    diseases = csv.writer(fileout, delimiter='\\t', quotechar='\"')  # csv con tabulaciones\n",
    "    diseases.writerow([\"disorder1\",\"disorder2\",\"ngenes1\",\"ngenes2\",\"class1\",\"class2\",\"ncommon_genes\"]) # Nombres columnas\n",
    "    for idx1, disorder1 in diseasome.iterrows(): # Iterar sobre la primera enfermedad a comparar genes\n",
    "        gene_list_1 = disorder1[\"gene_list\"].split(\",\") # Crear una lista de genes a partir de un string separado con comas\n",
    "        for idx2, disorder2 in diseasome.iterrows(): # Iterar sobre la segunda enfermedad a comparar genes\n",
    "            if disorder2[\"disorder\"] != disorder1[\"disorder\"]: # Compara que ambas enfermedades sean diferentes \n",
    "                gene_list_2 = disorder2[\"gene_list\"].split(\",\") \n",
    "                common_genes = intersection(gene_list_1, gene_list_2) # Comprueba los genes comunes entre ambas listas\n",
    "                if len(common_genes) > 0: # Si hay más de un gen común añade la fila al csv\n",
    "                    diseases.writerow([disorder1[\"disorder\"],disorder2[\"disorder\"],len(gene_list_1),len(gene_list_2), disorder1[\"class\"],disorder2[\"class\"],len(common_genes)])\n",
    "\n",
    "\n",
    "\n"
   ]
  },
  {
   "cell_type": "markdown",
   "metadata": {},
   "source": [
    "![Largest connected component of diseases graph](disease-disease-largest-cc.png)"
   ]
  },
  {
   "cell_type": "markdown",
   "metadata": {},
   "source": [
    "![Diseases graph](disease-disease.png)"
   ]
  },
  {
   "cell_type": "markdown",
   "metadata": {},
   "source": [
    "<font size=\"+1\" color=\"black\"> En estos grafos, siendo el principal el de abajo, disease-disease, tiene 1608 nodos y su mayor CC, el de arriba, tiene 132 CC lo que supone un Nc/N = 132/1608 = 8'21%. Podemos ver que a pesar de haberse reducido a más de la mitad el número de nodos del grafo, respecto diseasome, el número de nodos del mayor CC no se ha reducido proporcionalmente, mi hipótesis respecto a esto es que al tener una mayor conexión entre sí los elementos del CC era más probable que las enfermedades compartiesen genes entre sí. Otra cosa interesante que se puede obserbar en este grafo mejor que en el anterior es que las enfermedades del mismo tipo, en la gran mayoría de los casos están directamente relacionadas entre sí, lo que demuestra que son causadas por genes comunes. Los otros dos mayores CC, marcados en la segunda imagen tienen respectivamente, 25 y 18 nodos, un escaso 10-15% del mayor CC. Un hecho destacable es que los dos mayores CC tienen como tipo de enfermedad predominante el cancer, lo que puede dar a entender que son las enfermedades que más relación guardan entre sí.</font>"
   ]
  },
  {
   "cell_type": "markdown",
   "metadata": {},
   "source": [
    "# 3. Additional results: diseases are grouped"
   ]
  },
  {
   "cell_type": "code",
   "execution_count": 7,
   "metadata": {},
   "outputs": [],
   "source": [
    "def intersection(list1, list2):\n",
    "    return(list(set(list1) & set(list2)))\n",
    "\n",
    "OUTPUT_DISEASEDISEASE_FILENAME = \"disease-disease-grouped.csv\"\n",
    "\n",
    "with io.open(OUTPUT_DISEASEDISEASE_FILENAME, \"w\") as fileout:\n",
    "    diseases_grouped = csv.writer(fileout, delimiter='\\t', quotechar='\"')\n",
    "    diseases_grouped.writerow([\"disorder1\",\"disorder2\",\"ngenes1\",\"ngenes2\",\"class1\",\"class2\",\"ncommon_genes\"])\n",
    "    for idx1, disorder1 in diseasome.iterrows():\n",
    "        gene_list_1 = disorder1[\"gene_list\"].split(\",\")\n",
    "        for idx2, disorder2 in diseasome.iterrows():\n",
    "            if disorder2[\"disorder\"] != disorder1[\"disorder\"]:\n",
    "                gene_list_2 = disorder2[\"gene_list\"].split(\",\")\n",
    "                common_genes = intersection(gene_list_1, gene_list_2)\n",
    "                if len(common_genes) > 0: # Hasta aquí el funcionamiento es igual que en el anterior.\n",
    "                    \n",
    "                    disease_group1 = disorder1[\"disorder\"].split(\",\") # Se dividen las enfermedades separadas con comas en una lista\n",
    "                    disease_group2 = disorder2[\"disorder\"].split(\",\")\n",
    "                    \n",
    "                    name1 = disease_group1[0] # Se selecciona como grupo de enfermedades el nombre de la primera Ej:\"Epilepsy, progressive myoclonic 2B\" pasa a ser Epilepsy \n",
    "                    if len(disease_group1[0])<3: # Para evitar casos como el 17,20-lyase deficiency, que se cortaria por 17\n",
    "                        name1 = disease_group1[0]+','+disease_group1[1]\n",
    "                    \n",
    "                    name2 = disease_group2[0] # Lo mismo para el segundo grupo\n",
    "                    if len(disease_group2[0])<3:\n",
    "                        name2 = disease_group2[0]+','+disease_group2[1]\n",
    "                        \n",
    "                    diseases_grouped.writerow([name1, name2,len(gene_list_1),len(gene_list_2), disorder1[\"class\"],disorder2[\"class\"],len(common_genes)])\n",
    "                "
   ]
  },
  {
   "cell_type": "markdown",
   "metadata": {},
   "source": [
    "![Diseases grouped graph](disease-disease-grouped.png)"
   ]
  },
  {
   "cell_type": "markdown",
   "metadata": {},
   "source": [
    "<font size=\"+2\" color=\"#003300\">I hereby declare that, except for the code provided by the course instructors, all of my code, report, and figures were produced by myself.</font>\n"
   ]
  }
 ],
 "metadata": {
  "interpreter": {
   "hash": "3223c778e9182f1bf0b374fa22f8a10e336bb400d6a45dabbdfa2e5da81e7f1d"
  },
  "kernelspec": {
   "display_name": "Python 3",
   "language": "python",
   "name": "python3"
  },
  "language_info": {
   "codemirror_mode": {
    "name": "ipython",
    "version": 3
   },
   "file_extension": ".py",
   "mimetype": "text/x-python",
   "name": "python",
   "nbconvert_exporter": "python",
   "pygments_lexer": "ipython3",
   "version": "3.8.8"
  }
 },
 "nbformat": 4,
 "nbformat_minor": 2
}
